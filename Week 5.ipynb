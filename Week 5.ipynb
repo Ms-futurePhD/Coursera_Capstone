{
    "cells": [
        {
            "cell_type": "markdown",
            "metadata": {},
            "source": "# The Battle of Neighborhoods"
        },
        {
            "cell_type": "markdown",
            "metadata": {},
            "source": "## IBM Data Science Professional Certificate - Class #9 Applied Data Science Capstone"
        },
        {
            "cell_type": "markdown",
            "metadata": {},
            "source": "### Yuwei Bao 6/28/2020"
        },
        {
            "cell_type": "markdown",
            "metadata": {},
            "source": "### Project Title: Recommend a cafe to visitors that is within 200 meters near Bourbon street, New Orleans, Louisiana, U.S."
        },
        {
            "cell_type": "markdown",
            "metadata": {},
            "source": "### Introduction"
        },
        {
            "cell_type": "markdown",
            "metadata": {},
            "source": "As a person who is moving to New Orleans soon, I decided to choose a project that is personally related. \n\nThis project will provide visitors the suggestion for a nearby cafe to grab food before they head to Bourbon street, which is the most famous bar street in French Quarter.\n\nThis is a really basic project based on the technics. However, for anyone visits a city for the first time and for a short stay, having a recommended cafe will help increase the quality of the visiting."
        },
        {
            "cell_type": "markdown",
            "metadata": {},
            "source": "### Data and References"
        },
        {
            "cell_type": "markdown",
            "metadata": {},
            "source": "Data:\n\n- Address data for Bourbon street https://www.mapquest.com/us/louisiana/bourbon-street-265728386, which is used to get the latitude and longitude data.\n- Bourbon Street's latitude and longitude coordinates, which is used to get the venue data and to plot the map\n\nReferences:\n\n- Week 3: Foursquare API lab, which can be downloaded at http://cocl.us/DP0701EN_Coursera_Week2_Notebook1"
        },
        {
            "cell_type": "markdown",
            "metadata": {},
            "source": "### Methodology"
        },
        {
            "cell_type": "markdown",
            "metadata": {},
            "source": "Foursquare was used to provide the latitude, longitude, name, address, distance, and rating data of the cafe. \n\nThis project processes the rating data, visualizes locations on map, and makes analysis to provide visitors a short report to help they make their decisions."
        },
        {
            "cell_type": "code",
            "execution_count": 14,
            "metadata": {},
            "outputs": [
                {
                    "name": "stdout",
                    "output_type": "stream",
                    "text": "Folium installed\nLibraries imported.\n"
                }
            ],
            "source": "import requests # library to handle requests\nimport pandas as pd # library for data analsysis\nimport numpy as np # library to handle data in a vectorized manner\nimport random # library for random number generation\n\n#!conda install -c conda-forge geopy --yes \nfrom geopy.geocoders import Nominatim # module to convert an address into latitude and longitude values\n\n# libraries for displaying images\nfrom IPython.display import Image \nfrom IPython.core.display import HTML \n    \n# tranforming json file into a pandas dataframe library\nfrom pandas.io.json import json_normalize\n\n#!conda install -c conda-forge folium=0.5.0 --yes\nimport folium # plotting library\n\nprint('Folium installed')\nprint('Libraries imported.')"
        },
        {
            "cell_type": "code",
            "execution_count": 26,
            "metadata": {},
            "outputs": [],
            "source": "# This part is the information about my CLEINT_ID, CLIENT_SECRET and other private information. I have removed it for my privacy."
        },
        {
            "cell_type": "markdown",
            "metadata": {},
            "source": "## Before went to the bar at Bourbon street, tourists may want to grab some food"
        },
        {
            "cell_type": "markdown",
            "metadata": {},
            "source": "### Converting the Bourbon street's address to its latitude and longitude coordinates\nAddress data was obtained from https://www.mapquest.com/us/louisiana/bourbon-street-265728386"
        },
        {
            "cell_type": "code",
            "execution_count": 16,
            "metadata": {},
            "outputs": [
                {
                    "name": "stdout",
                    "output_type": "stream",
                    "text": "29.9586069 -90.0654573\n"
                }
            ],
            "source": "address = '700 Bourbon St., New Orleans, LA'\ngeolocator = Nominatim(user_agent=\"foursquare_agent\")\nlocation = geolocator.geocode(address)\nlatitude = location.latitude\nlongitude = location.longitude\nprint(latitude, longitude)"
        },
        {
            "cell_type": "markdown",
            "metadata": {},
            "source": "### Search for cafe that is within 200 meters from Bourbon street"
        },
        {
            "cell_type": "code",
            "execution_count": 17,
            "metadata": {},
            "outputs": [
                {
                    "name": "stdout",
                    "output_type": "stream",
                    "text": "Searching for cafe\n"
                }
            ],
            "source": "search_query = 'cafe'\nradius = 200\nprint('Searching for '+ search_query)"
        },
        {
            "cell_type": "code",
            "execution_count": 18,
            "metadata": {},
            "outputs": [
                {
                    "data": {
                        "text/plain": "'https://api.foursquare.com/v2/venues/search?client_id=5PM0YDTXEDFRWVXI5HYXDU3HL3HVYTYFXU045ESX51MEJ2N3&client_secret=0E55LKYOM31UJQVZV4VJATAGWTNBOQEAQC4E0NSK5R1NO0JH&ll=29.9586069,-90.0654573&v=20180604&query=cafe&radius=200&limit=30'"
                    },
                    "execution_count": 18,
                    "metadata": {},
                    "output_type": "execute_result"
                }
            ],
            "source": "# Define the corresponding URL\nurl = 'https://api.foursquare.com/v2/venues/search?client_id={}&client_secret={}&ll={},{}&v={}&query={}&radius={}&limit={}'.format(CLIENT_ID, CLIENT_SECRET, latitude, longitude, VERSION, search_query, radius, LIMIT)\nurl"
        },
        {
            "cell_type": "code",
            "execution_count": 19,
            "metadata": {},
            "outputs": [
                {
                    "data": {
                        "text/plain": "{'meta': {'code': 200, 'requestId': '5ef94575d76da7739951742b'},\n 'response': {'venues': [{'id': '4aeb317af964a5207abf21e3',\n    'name': \"Tony Seville's Pirates Alley Cafe & Old Absinthe House\",\n    'location': {'address': '622 Pirates Aly',\n     'crossStreet': 'Cabildo Alley',\n     'lat': 29.958027880391437,\n     'lng': -90.06413289591308,\n     'labeledLatLngs': [{'label': 'display',\n       'lat': 29.958027880391437,\n       'lng': -90.06413289591308}],\n     'distance': 143,\n     'postalCode': '70116',\n     'cc': 'US',\n     'city': 'New Orleans',\n     'state': 'LA',\n     'country': 'United States',\n     'formattedAddress': ['622 Pirates Aly (Cabildo Alley)',\n      'New Orleans, LA 70116',\n      'United States']},\n    'categories': [{'id': '4bf58dd8d48988d116941735',\n      'name': 'Bar',\n      'pluralName': 'Bars',\n      'shortName': 'Bar',\n      'icon': {'prefix': 'https://ss3.4sqi.net/img/categories_v2/nightlife/pub_',\n       'suffix': '.png'},\n      'primary': True}],\n    'referralId': 'v-1593394964',\n    'hasPerk': False},\n   {'id': '4ef3f22b754a89ace0027eb6',\n    'name': 'Cafe Soule and The Paris Room',\n    'location': {'address': '720 Saint Louis St',\n     'crossStreet': 'Bourbon & Royal',\n     'lat': 29.956736055983352,\n     'lng': -90.06662555497041,\n     'labeledLatLngs': [{'label': 'display',\n       'lat': 29.956736055983352,\n       'lng': -90.06662555497041}],\n     'distance': 236,\n     'postalCode': '70130',\n     'cc': 'US',\n     'city': 'New Orleans',\n     'state': 'LA',\n     'country': 'United States',\n     'formattedAddress': ['720 Saint Louis St (Bourbon & Royal)',\n      'New Orleans, LA 70130',\n      'United States']},\n    'categories': [{'id': '4bf58dd8d48988d17a941735',\n      'name': 'Cajun / Creole Restaurant',\n      'pluralName': 'Cajun / Creole Restaurants',\n      'shortName': 'Cajun / Creole',\n      'icon': {'prefix': 'https://ss3.4sqi.net/img/categories_v2/food/cajun_',\n       'suffix': '.png'},\n      'primary': True}],\n    'delivery': {'id': '1496863',\n     'url': 'https://www.grubhub.com/restaurant/maison-soule-720-saint-louis-street-new-orleans/1496863?affiliate=1131&utm_source=foursquare-affiliate-network&utm_medium=affiliate&utm_campaign=1131&utm_content=1496863',\n     'provider': {'name': 'grubhub',\n      'icon': {'prefix': 'https://fastly.4sqi.net/img/general/cap/',\n       'sizes': [40, 50],\n       'name': '/delivery_provider_grubhub_20180129.png'}}},\n    'venuePage': {'id': '48611826'},\n    'referralId': 'v-1593394964',\n    'hasPerk': False},\n   {'id': '5e50195087d44900083aa068',\n    'name': 'Cafe Beignet at the Old Coffee Pot',\n    'location': {'address': '714 Saint Peter St',\n     'lat': 29.958095,\n     'lng': -90.065028,\n     'labeledLatLngs': [{'label': 'display',\n       'lat': 29.958095,\n       'lng': -90.065028},\n      {'label': 'entrance', 'lat': 29.958195, 'lng': -90.065133}],\n     'distance': 70,\n     'postalCode': '70116',\n     'cc': 'US',\n     'city': 'New Orleans',\n     'state': 'LA',\n     'country': 'United States',\n     'formattedAddress': ['714 Saint Peter St',\n      'New Orleans, LA 70116',\n      'United States']},\n    'categories': [{'id': '4bf58dd8d48988d16d941735',\n      'name': 'Caf\u00e9',\n      'pluralName': 'Caf\u00e9s',\n      'shortName': 'Caf\u00e9',\n      'icon': {'prefix': 'https://ss3.4sqi.net/img/categories_v2/food/cafe_',\n       'suffix': '.png'},\n      'primary': True}],\n    'delivery': {'id': '1776785',\n     'url': 'https://www.grubhub.com/restaurant/cafe-beignet-714-saint-peter-new-orleans/1776785?affiliate=1131&utm_source=foursquare-affiliate-network&utm_medium=affiliate&utm_campaign=1131&utm_content=1776785',\n     'provider': {'name': 'grubhub',\n      'icon': {'prefix': 'https://fastly.4sqi.net/img/general/cap/',\n       'sizes': [40, 50],\n       'name': '/delivery_provider_grubhub_20180129.png'}}},\n    'referralId': 'v-1593394964',\n    'hasPerk': False},\n   {'id': '4e7601a4d22d80eb33729adf',\n    'name': 'Vacherie Cafe',\n    'location': {'address': '827 Toulouse St',\n     'crossStreet': 'at Dauphine St.',\n     'lat': 29.958414666734285,\n     'lng': -90.06706590394282,\n     'labeledLatLngs': [{'label': 'display',\n       'lat': 29.958414666734285,\n       'lng': -90.06706590394282}],\n     'distance': 156,\n     'postalCode': '70112',\n     'cc': 'US',\n     'city': 'New Orleans',\n     'state': 'LA',\n     'country': 'United States',\n     'formattedAddress': ['827 Toulouse St (at Dauphine St.)',\n      'New Orleans, LA 70112',\n      'United States']},\n    'categories': [{'id': '4bf58dd8d48988d16d941735',\n      'name': 'Caf\u00e9',\n      'pluralName': 'Caf\u00e9s',\n      'shortName': 'Caf\u00e9',\n      'icon': {'prefix': 'https://ss3.4sqi.net/img/categories_v2/food/cafe_',\n       'suffix': '.png'},\n      'primary': True}],\n    'delivery': {'id': '1493851',\n     'url': 'https://www.grubhub.com/restaurant/vacherie-827-toulouse-street-new-orleans/1493851?affiliate=1131&utm_source=foursquare-affiliate-network&utm_medium=affiliate&utm_campaign=1131&utm_content=1493851',\n     'provider': {'name': 'grubhub',\n      'icon': {'prefix': 'https://fastly.4sqi.net/img/general/cap/',\n       'sizes': [40, 50],\n       'name': '/delivery_provider_grubhub_20180129.png'}}},\n    'referralId': 'v-1593394964',\n    'hasPerk': False},\n   {'id': '4f32433619836c91c7c643c6',\n    'name': 'Internet Cafe On Toulouse',\n    'location': {'address': '717 Toulouse St',\n     'lat': 29.95791,\n     'lng': -90.065562,\n     'labeledLatLngs': [{'label': 'display',\n       'lat': 29.95791,\n       'lng': -90.065562}],\n     'distance': 78,\n     'postalCode': '70130',\n     'cc': 'US',\n     'city': 'New Orleans',\n     'state': 'LA',\n     'country': 'United States',\n     'formattedAddress': ['717 Toulouse St',\n      'New Orleans, LA 70130',\n      'United States']},\n    'categories': [{'id': '4d4b7105d754a06374d81259',\n      'name': 'Food',\n      'pluralName': 'Food',\n      'shortName': 'Food',\n      'icon': {'prefix': 'https://ss3.4sqi.net/img/categories_v2/food/default_',\n       'suffix': '.png'},\n      'primary': True}],\n    'referralId': 'v-1593394964',\n    'hasPerk': False},\n   {'id': '5506c5a6498e18fb132e132f',\n    'name': 'Cafe Opera',\n    'location': {'address': '541 Bourbon St',\n     'lat': 29.957801818847656,\n     'lng': -90.06689453125,\n     'labeledLatLngs': [{'label': 'display',\n       'lat': 29.957801818847656,\n       'lng': -90.06689453125}],\n     'distance': 165,\n     'postalCode': '70130',\n     'cc': 'US',\n     'city': 'New Orleans',\n     'state': 'LA',\n     'country': 'United States',\n     'formattedAddress': ['541 Bourbon St',\n      'New Orleans, LA 70130',\n      'United States']},\n    'categories': [{'id': '4bf58dd8d48988d1c4941735',\n      'name': 'Restaurant',\n      'pluralName': 'Restaurants',\n      'shortName': 'Restaurant',\n      'icon': {'prefix': 'https://ss3.4sqi.net/img/categories_v2/food/default_',\n       'suffix': '.png'},\n      'primary': True}],\n    'delivery': {'id': '1776494',\n     'url': 'https://www.grubhub.com/restaurant/cafe-opera-541-bourbon-street-new-orleans/1776494?affiliate=1131&utm_source=foursquare-affiliate-network&utm_medium=affiliate&utm_campaign=1131&utm_content=1776494',\n     'provider': {'name': 'grubhub',\n      'icon': {'prefix': 'https://fastly.4sqi.net/img/general/cap/',\n       'sizes': [40, 50],\n       'name': '/delivery_provider_grubhub_20180129.png'}}},\n    'referralId': 'v-1593394964',\n    'hasPerk': False},\n   {'id': '5b5274aacabcff002cd0ad56',\n    'name': 'Cane Cafe',\n    'location': {'lat': 29.957485,\n     'lng': -90.065975,\n     'labeledLatLngs': [{'label': 'display',\n       'lat': 29.957485,\n       'lng': -90.065975}],\n     'distance': 134,\n     'postalCode': '70130',\n     'cc': 'US',\n     'city': 'New Orleans',\n     'state': 'LA',\n     'country': 'United States',\n     'formattedAddress': ['New Orleans, LA 70130', 'United States']},\n    'categories': [{'id': '4bf58dd8d48988d11e941735',\n      'name': 'Cocktail Bar',\n      'pluralName': 'Cocktail Bars',\n      'shortName': 'Cocktail',\n      'icon': {'prefix': 'https://ss3.4sqi.net/img/categories_v2/nightlife/cocktails_',\n       'suffix': '.png'},\n      'primary': True}],\n    'referralId': 'v-1593394964',\n    'hasPerk': False},\n   {'id': '50bb94b9e4b0802eba1b140d',\n    'name': 'Caf\u00e8 Dauphine',\n    'location': {'lat': 29.960599,\n     'lng': -90.065683,\n     'labeledLatLngs': [{'label': 'display',\n       'lat': 29.960599,\n       'lng': -90.065683}],\n     'distance': 222,\n     'postalCode': '70116',\n     'cc': 'US',\n     'city': 'New Orleans',\n     'state': 'LA',\n     'country': 'United States',\n     'formattedAddress': ['New Orleans, LA 70116', 'United States']},\n    'categories': [{'id': '4bf58dd8d48988d17a941735',\n      'name': 'Cajun / Creole Restaurant',\n      'pluralName': 'Cajun / Creole Restaurants',\n      'shortName': 'Cajun / Creole',\n      'icon': {'prefix': 'https://ss3.4sqi.net/img/categories_v2/food/cajun_',\n       'suffix': '.png'},\n      'primary': True}],\n    'referralId': 'v-1593394964',\n    'hasPerk': False},\n   {'id': '565a245c498e2fa77238b797',\n    'name': \"Cafe A'du Ma\",\n    'location': {'lat': 29.95826530456543,\n     'lng': -90.06311798095703,\n     'labeledLatLngs': [{'label': 'display',\n       'lat': 29.95826530456543,\n       'lng': -90.06311798095703}],\n     'distance': 228,\n     'cc': 'US',\n     'city': 'New Orleans',\n     'state': 'LA',\n     'country': 'United States',\n     'formattedAddress': ['New Orleans, LA', 'United States']},\n    'categories': [{'id': '4bf58dd8d48988d16d941735',\n      'name': 'Caf\u00e9',\n      'pluralName': 'Caf\u00e9s',\n      'shortName': 'Caf\u00e9',\n      'icon': {'prefix': 'https://ss3.4sqi.net/img/categories_v2/food/cafe_',\n       'suffix': '.png'},\n      'primary': True}],\n    'referralId': 'v-1593394964',\n    'hasPerk': False},\n   {'id': '4ccf428f3bd6236aef748421',\n    'name': 'Internet Caf\u00e9',\n    'location': {'address': '717 Toulouse St',\n     'lat': 29.957270715855433,\n     'lng': -90.06571044994556,\n     'labeledLatLngs': [{'label': 'display',\n       'lat': 29.957270715855433,\n       'lng': -90.06571044994556}],\n     'distance': 150,\n     'postalCode': '70130',\n     'cc': 'US',\n     'city': 'New Orleans',\n     'state': 'LA',\n     'country': 'United States',\n     'formattedAddress': ['717 Toulouse St',\n      'New Orleans, LA 70130',\n      'United States']},\n    'categories': [{'id': '4bf58dd8d48988d1f0941735',\n      'name': 'Internet Cafe',\n      'pluralName': 'Internet Cafes',\n      'shortName': 'Internet Cafe',\n      'icon': {'prefix': 'https://ss3.4sqi.net/img/categories_v2/shops/internetcafe_',\n       'suffix': '.png'},\n      'primary': True}],\n    'referralId': 'v-1593394964',\n    'hasPerk': False},\n   {'id': '4efa375d9911b01dddf33d5a',\n    'name': \"Fiorella's Cafe\",\n    'location': {'lat': 29.959625151923436,\n     'lng': -90.06409579077818,\n     'labeledLatLngs': [{'label': 'display',\n       'lat': 29.959625151923436,\n       'lng': -90.06409579077818}],\n     'distance': 173,\n     'postalCode': '70116',\n     'cc': 'US',\n     'city': 'New Orleans',\n     'state': 'LA',\n     'country': 'United States',\n     'formattedAddress': ['New Orleans, LA 70116', 'United States']},\n    'categories': [{'id': '4bf58dd8d48988d16d941735',\n      'name': 'Caf\u00e9',\n      'pluralName': 'Caf\u00e9s',\n      'shortName': 'Caf\u00e9',\n      'icon': {'prefix': 'https://ss3.4sqi.net/img/categories_v2/food/cafe_',\n       'suffix': '.png'},\n      'primary': True}],\n    'referralId': 'v-1593394964',\n    'hasPerk': False},\n   {'id': '5c68693fb25fee002cd3b846',\n    'name': 'La Cafe',\n    'location': {'address': 'bourbon St',\n     'crossStreet': 'dumaign',\n     'lat': 29.960173,\n     'lng': -90.06415,\n     'labeledLatLngs': [{'label': 'display',\n       'lat': 29.960173,\n       'lng': -90.06415}],\n     'distance': 215,\n     'postalCode': '70116',\n     'cc': 'US',\n     'city': 'New Orleans',\n     'state': 'LA',\n     'country': 'United States',\n     'formattedAddress': ['bourbon St (dumaign)',\n      'New Orleans, LA 70116',\n      'United States']},\n    'categories': [{'id': '4bf58dd8d48988d116941735',\n      'name': 'Bar',\n      'pluralName': 'Bars',\n      'shortName': 'Bar',\n      'icon': {'prefix': 'https://ss3.4sqi.net/img/categories_v2/nightlife/pub_',\n       'suffix': '.png'},\n      'primary': True}],\n    'referralId': 'v-1593394964',\n    'hasPerk': False},\n   {'id': '4f639794e4b0777dfb9086d9',\n    'name': 'cafedumonde',\n    'location': {'lat': 29.957998530350302,\n     'lng': -90.06686903255383,\n     'labeledLatLngs': [{'label': 'display',\n       'lat': 29.957998530350302,\n       'lng': -90.06686903255383}],\n     'distance': 152,\n     'cc': 'US',\n     'state': 'Louisiana',\n     'country': 'United States',\n     'formattedAddress': ['Louisiana', 'United States']},\n    'categories': [{'id': '4bf58dd8d48988d16d941735',\n      'name': 'Caf\u00e9',\n      'pluralName': 'Caf\u00e9s',\n      'shortName': 'Caf\u00e9',\n      'icon': {'prefix': 'https://ss3.4sqi.net/img/categories_v2/food/cafe_',\n       'suffix': '.png'},\n      'primary': True}],\n    'referralId': 'v-1593394964',\n    'hasPerk': False},\n   {'id': '4e6ceee3483b1f5ebe4a2595',\n    'name': 'Jazz \"N\" Jazz',\n    'location': {'address': '532 Bourbon St',\n     'lat': 29.957109000000003,\n     'lng': -90.06625799999999,\n     'labeledLatLngs': [{'label': 'display',\n       'lat': 29.957109000000003,\n       'lng': -90.06625799999999},\n      {'label': 'entrance', 'lat': 29.957597, 'lng': -90.066489}],\n     'distance': 183,\n     'postalCode': '70130',\n     'cc': 'US',\n     'city': 'New Orleans',\n     'state': 'LA',\n     'country': 'United States',\n     'formattedAddress': ['532 Bourbon St',\n      'New Orleans, LA 70130',\n      'United States']},\n    'categories': [{'id': '4bf58dd8d48988d1ff941735',\n      'name': 'Miscellaneous Shop',\n      'pluralName': 'Miscellaneous Shops',\n      'shortName': 'Shop',\n      'icon': {'prefix': 'https://ss3.4sqi.net/img/categories_v2/shops/default_',\n       'suffix': '.png'},\n      'primary': True}],\n    'referralId': 'v-1593394964',\n    'hasPerk': False}]}}"
                    },
                    "execution_count": 19,
                    "metadata": {},
                    "output_type": "execute_result"
                }
            ],
            "source": "# Send the GET Request and examine the results\nresults = requests.get(url).json()\nresults"
        },
        {
            "cell_type": "code",
            "execution_count": 20,
            "metadata": {},
            "outputs": [
                {
                    "data": {
                        "text/html": "<div>\n<style scoped>\n    .dataframe tbody tr th:only-of-type {\n        vertical-align: middle;\n    }\n\n    .dataframe tbody tr th {\n        vertical-align: top;\n    }\n\n    .dataframe thead th {\n        text-align: right;\n    }\n</style>\n<table border=\"1\" class=\"dataframe\">\n  <thead>\n    <tr style=\"text-align: right;\">\n      <th></th>\n      <th>categories</th>\n      <th>delivery.id</th>\n      <th>delivery.provider.icon.name</th>\n      <th>delivery.provider.icon.prefix</th>\n      <th>delivery.provider.icon.sizes</th>\n      <th>delivery.provider.name</th>\n      <th>delivery.url</th>\n      <th>hasPerk</th>\n      <th>id</th>\n      <th>location.address</th>\n      <th>...</th>\n      <th>location.distance</th>\n      <th>location.formattedAddress</th>\n      <th>location.labeledLatLngs</th>\n      <th>location.lat</th>\n      <th>location.lng</th>\n      <th>location.postalCode</th>\n      <th>location.state</th>\n      <th>name</th>\n      <th>referralId</th>\n      <th>venuePage.id</th>\n    </tr>\n  </thead>\n  <tbody>\n    <tr>\n      <th>0</th>\n      <td>[{'id': '4bf58dd8d48988d116941735', 'name': 'B...</td>\n      <td>NaN</td>\n      <td>NaN</td>\n      <td>NaN</td>\n      <td>NaN</td>\n      <td>NaN</td>\n      <td>NaN</td>\n      <td>False</td>\n      <td>4aeb317af964a5207abf21e3</td>\n      <td>622 Pirates Aly</td>\n      <td>...</td>\n      <td>143</td>\n      <td>[622 Pirates Aly (Cabildo Alley), New Orleans,...</td>\n      <td>[{'label': 'display', 'lat': 29.95802788039143...</td>\n      <td>29.958028</td>\n      <td>-90.064133</td>\n      <td>70116</td>\n      <td>LA</td>\n      <td>Tony Seville's Pirates Alley Cafe &amp; Old Absint...</td>\n      <td>v-1593394964</td>\n      <td>NaN</td>\n    </tr>\n    <tr>\n      <th>1</th>\n      <td>[{'id': '4bf58dd8d48988d17a941735', 'name': 'C...</td>\n      <td>1496863</td>\n      <td>/delivery_provider_grubhub_20180129.png</td>\n      <td>https://fastly.4sqi.net/img/general/cap/</td>\n      <td>[40, 50]</td>\n      <td>grubhub</td>\n      <td>https://www.grubhub.com/restaurant/maison-soul...</td>\n      <td>False</td>\n      <td>4ef3f22b754a89ace0027eb6</td>\n      <td>720 Saint Louis St</td>\n      <td>...</td>\n      <td>236</td>\n      <td>[720 Saint Louis St (Bourbon &amp; Royal), New Orl...</td>\n      <td>[{'label': 'display', 'lat': 29.95673605598335...</td>\n      <td>29.956736</td>\n      <td>-90.066626</td>\n      <td>70130</td>\n      <td>LA</td>\n      <td>Cafe Soule and The Paris Room</td>\n      <td>v-1593394964</td>\n      <td>48611826</td>\n    </tr>\n    <tr>\n      <th>2</th>\n      <td>[{'id': '4bf58dd8d48988d16d941735', 'name': 'C...</td>\n      <td>1776785</td>\n      <td>/delivery_provider_grubhub_20180129.png</td>\n      <td>https://fastly.4sqi.net/img/general/cap/</td>\n      <td>[40, 50]</td>\n      <td>grubhub</td>\n      <td>https://www.grubhub.com/restaurant/cafe-beigne...</td>\n      <td>False</td>\n      <td>5e50195087d44900083aa068</td>\n      <td>714 Saint Peter St</td>\n      <td>...</td>\n      <td>70</td>\n      <td>[714 Saint Peter St, New Orleans, LA 70116, Un...</td>\n      <td>[{'label': 'display', 'lat': 29.958095, 'lng':...</td>\n      <td>29.958095</td>\n      <td>-90.065028</td>\n      <td>70116</td>\n      <td>LA</td>\n      <td>Cafe Beignet at the Old Coffee Pot</td>\n      <td>v-1593394964</td>\n      <td>NaN</td>\n    </tr>\n    <tr>\n      <th>3</th>\n      <td>[{'id': '4bf58dd8d48988d16d941735', 'name': 'C...</td>\n      <td>1493851</td>\n      <td>/delivery_provider_grubhub_20180129.png</td>\n      <td>https://fastly.4sqi.net/img/general/cap/</td>\n      <td>[40, 50]</td>\n      <td>grubhub</td>\n      <td>https://www.grubhub.com/restaurant/vacherie-82...</td>\n      <td>False</td>\n      <td>4e7601a4d22d80eb33729adf</td>\n      <td>827 Toulouse St</td>\n      <td>...</td>\n      <td>156</td>\n      <td>[827 Toulouse St (at Dauphine St.), New Orlean...</td>\n      <td>[{'label': 'display', 'lat': 29.95841466673428...</td>\n      <td>29.958415</td>\n      <td>-90.067066</td>\n      <td>70112</td>\n      <td>LA</td>\n      <td>Vacherie Cafe</td>\n      <td>v-1593394964</td>\n      <td>NaN</td>\n    </tr>\n    <tr>\n      <th>4</th>\n      <td>[{'id': '4d4b7105d754a06374d81259', 'name': 'F...</td>\n      <td>NaN</td>\n      <td>NaN</td>\n      <td>NaN</td>\n      <td>NaN</td>\n      <td>NaN</td>\n      <td>NaN</td>\n      <td>False</td>\n      <td>4f32433619836c91c7c643c6</td>\n      <td>717 Toulouse St</td>\n      <td>...</td>\n      <td>78</td>\n      <td>[717 Toulouse St, New Orleans, LA 70130, Unite...</td>\n      <td>[{'label': 'display', 'lat': 29.95791, 'lng': ...</td>\n      <td>29.957910</td>\n      <td>-90.065562</td>\n      <td>70130</td>\n      <td>LA</td>\n      <td>Internet Cafe On Toulouse</td>\n      <td>v-1593394964</td>\n      <td>NaN</td>\n    </tr>\n  </tbody>\n</table>\n<p>5 rows \u00d7 24 columns</p>\n</div>",
                        "text/plain": "                                          categories delivery.id  \\\n0  [{'id': '4bf58dd8d48988d116941735', 'name': 'B...         NaN   \n1  [{'id': '4bf58dd8d48988d17a941735', 'name': 'C...     1496863   \n2  [{'id': '4bf58dd8d48988d16d941735', 'name': 'C...     1776785   \n3  [{'id': '4bf58dd8d48988d16d941735', 'name': 'C...     1493851   \n4  [{'id': '4d4b7105d754a06374d81259', 'name': 'F...         NaN   \n\n               delivery.provider.icon.name  \\\n0                                      NaN   \n1  /delivery_provider_grubhub_20180129.png   \n2  /delivery_provider_grubhub_20180129.png   \n3  /delivery_provider_grubhub_20180129.png   \n4                                      NaN   \n\n              delivery.provider.icon.prefix delivery.provider.icon.sizes  \\\n0                                       NaN                          NaN   \n1  https://fastly.4sqi.net/img/general/cap/                     [40, 50]   \n2  https://fastly.4sqi.net/img/general/cap/                     [40, 50]   \n3  https://fastly.4sqi.net/img/general/cap/                     [40, 50]   \n4                                       NaN                          NaN   \n\n  delivery.provider.name                                       delivery.url  \\\n0                    NaN                                                NaN   \n1                grubhub  https://www.grubhub.com/restaurant/maison-soul...   \n2                grubhub  https://www.grubhub.com/restaurant/cafe-beigne...   \n3                grubhub  https://www.grubhub.com/restaurant/vacherie-82...   \n4                    NaN                                                NaN   \n\n   hasPerk                        id    location.address  ...  \\\n0    False  4aeb317af964a5207abf21e3     622 Pirates Aly  ...   \n1    False  4ef3f22b754a89ace0027eb6  720 Saint Louis St  ...   \n2    False  5e50195087d44900083aa068  714 Saint Peter St  ...   \n3    False  4e7601a4d22d80eb33729adf     827 Toulouse St  ...   \n4    False  4f32433619836c91c7c643c6     717 Toulouse St  ...   \n\n  location.distance                          location.formattedAddress  \\\n0               143  [622 Pirates Aly (Cabildo Alley), New Orleans,...   \n1               236  [720 Saint Louis St (Bourbon & Royal), New Orl...   \n2                70  [714 Saint Peter St, New Orleans, LA 70116, Un...   \n3               156  [827 Toulouse St (at Dauphine St.), New Orlean...   \n4                78  [717 Toulouse St, New Orleans, LA 70130, Unite...   \n\n                             location.labeledLatLngs location.lat  \\\n0  [{'label': 'display', 'lat': 29.95802788039143...    29.958028   \n1  [{'label': 'display', 'lat': 29.95673605598335...    29.956736   \n2  [{'label': 'display', 'lat': 29.958095, 'lng':...    29.958095   \n3  [{'label': 'display', 'lat': 29.95841466673428...    29.958415   \n4  [{'label': 'display', 'lat': 29.95791, 'lng': ...    29.957910   \n\n   location.lng location.postalCode location.state  \\\n0    -90.064133               70116             LA   \n1    -90.066626               70130             LA   \n2    -90.065028               70116             LA   \n3    -90.067066               70112             LA   \n4    -90.065562               70130             LA   \n\n                                                name    referralId  \\\n0  Tony Seville's Pirates Alley Cafe & Old Absint...  v-1593394964   \n1                      Cafe Soule and The Paris Room  v-1593394964   \n2                 Cafe Beignet at the Old Coffee Pot  v-1593394964   \n3                                      Vacherie Cafe  v-1593394964   \n4                          Internet Cafe On Toulouse  v-1593394964   \n\n  venuePage.id  \n0          NaN  \n1     48611826  \n2          NaN  \n3          NaN  \n4          NaN  \n\n[5 rows x 24 columns]"
                    },
                    "execution_count": 20,
                    "metadata": {},
                    "output_type": "execute_result"
                }
            ],
            "source": "# Get relevant part of JSON and transform it into a pandas dataframe\n\n# assign relevant part of JSON to venues\nvenues = results['response']['venues']\n\n# tranform venues into a dataframe\ndataframe = json_normalize(venues)\ndataframe.head()"
        },
        {
            "cell_type": "markdown",
            "metadata": {},
            "source": "### Define information of interest and filter dataframe"
        },
        {
            "cell_type": "code",
            "execution_count": 21,
            "metadata": {},
            "outputs": [
                {
                    "data": {
                        "text/html": "<div>\n<style scoped>\n    .dataframe tbody tr th:only-of-type {\n        vertical-align: middle;\n    }\n\n    .dataframe tbody tr th {\n        vertical-align: top;\n    }\n\n    .dataframe thead th {\n        text-align: right;\n    }\n</style>\n<table border=\"1\" class=\"dataframe\">\n  <thead>\n    <tr style=\"text-align: right;\">\n      <th></th>\n      <th>name</th>\n      <th>categories</th>\n      <th>address</th>\n      <th>cc</th>\n      <th>city</th>\n      <th>country</th>\n      <th>crossStreet</th>\n      <th>distance</th>\n      <th>formattedAddress</th>\n      <th>labeledLatLngs</th>\n      <th>lat</th>\n      <th>lng</th>\n      <th>postalCode</th>\n      <th>state</th>\n      <th>id</th>\n    </tr>\n  </thead>\n  <tbody>\n    <tr>\n      <th>0</th>\n      <td>Tony Seville's Pirates Alley Cafe &amp; Old Absint...</td>\n      <td>Bar</td>\n      <td>622 Pirates Aly</td>\n      <td>US</td>\n      <td>New Orleans</td>\n      <td>United States</td>\n      <td>Cabildo Alley</td>\n      <td>143</td>\n      <td>[622 Pirates Aly (Cabildo Alley), New Orleans,...</td>\n      <td>[{'label': 'display', 'lat': 29.95802788039143...</td>\n      <td>29.958028</td>\n      <td>-90.064133</td>\n      <td>70116</td>\n      <td>LA</td>\n      <td>4aeb317af964a5207abf21e3</td>\n    </tr>\n    <tr>\n      <th>1</th>\n      <td>Cafe Soule and The Paris Room</td>\n      <td>Cajun / Creole Restaurant</td>\n      <td>720 Saint Louis St</td>\n      <td>US</td>\n      <td>New Orleans</td>\n      <td>United States</td>\n      <td>Bourbon &amp; Royal</td>\n      <td>236</td>\n      <td>[720 Saint Louis St (Bourbon &amp; Royal), New Orl...</td>\n      <td>[{'label': 'display', 'lat': 29.95673605598335...</td>\n      <td>29.956736</td>\n      <td>-90.066626</td>\n      <td>70130</td>\n      <td>LA</td>\n      <td>4ef3f22b754a89ace0027eb6</td>\n    </tr>\n    <tr>\n      <th>2</th>\n      <td>Cafe Beignet at the Old Coffee Pot</td>\n      <td>Caf\u00e9</td>\n      <td>714 Saint Peter St</td>\n      <td>US</td>\n      <td>New Orleans</td>\n      <td>United States</td>\n      <td>NaN</td>\n      <td>70</td>\n      <td>[714 Saint Peter St, New Orleans, LA 70116, Un...</td>\n      <td>[{'label': 'display', 'lat': 29.958095, 'lng':...</td>\n      <td>29.958095</td>\n      <td>-90.065028</td>\n      <td>70116</td>\n      <td>LA</td>\n      <td>5e50195087d44900083aa068</td>\n    </tr>\n    <tr>\n      <th>3</th>\n      <td>Vacherie Cafe</td>\n      <td>Caf\u00e9</td>\n      <td>827 Toulouse St</td>\n      <td>US</td>\n      <td>New Orleans</td>\n      <td>United States</td>\n      <td>at Dauphine St.</td>\n      <td>156</td>\n      <td>[827 Toulouse St (at Dauphine St.), New Orlean...</td>\n      <td>[{'label': 'display', 'lat': 29.95841466673428...</td>\n      <td>29.958415</td>\n      <td>-90.067066</td>\n      <td>70112</td>\n      <td>LA</td>\n      <td>4e7601a4d22d80eb33729adf</td>\n    </tr>\n    <tr>\n      <th>4</th>\n      <td>Internet Cafe On Toulouse</td>\n      <td>Food</td>\n      <td>717 Toulouse St</td>\n      <td>US</td>\n      <td>New Orleans</td>\n      <td>United States</td>\n      <td>NaN</td>\n      <td>78</td>\n      <td>[717 Toulouse St, New Orleans, LA 70130, Unite...</td>\n      <td>[{'label': 'display', 'lat': 29.95791, 'lng': ...</td>\n      <td>29.957910</td>\n      <td>-90.065562</td>\n      <td>70130</td>\n      <td>LA</td>\n      <td>4f32433619836c91c7c643c6</td>\n    </tr>\n    <tr>\n      <th>5</th>\n      <td>Cafe Opera</td>\n      <td>Restaurant</td>\n      <td>541 Bourbon St</td>\n      <td>US</td>\n      <td>New Orleans</td>\n      <td>United States</td>\n      <td>NaN</td>\n      <td>165</td>\n      <td>[541 Bourbon St, New Orleans, LA 70130, United...</td>\n      <td>[{'label': 'display', 'lat': 29.95780181884765...</td>\n      <td>29.957802</td>\n      <td>-90.066895</td>\n      <td>70130</td>\n      <td>LA</td>\n      <td>5506c5a6498e18fb132e132f</td>\n    </tr>\n    <tr>\n      <th>6</th>\n      <td>Cane Cafe</td>\n      <td>Cocktail Bar</td>\n      <td>NaN</td>\n      <td>US</td>\n      <td>New Orleans</td>\n      <td>United States</td>\n      <td>NaN</td>\n      <td>134</td>\n      <td>[New Orleans, LA 70130, United States]</td>\n      <td>[{'label': 'display', 'lat': 29.957485, 'lng':...</td>\n      <td>29.957485</td>\n      <td>-90.065975</td>\n      <td>70130</td>\n      <td>LA</td>\n      <td>5b5274aacabcff002cd0ad56</td>\n    </tr>\n    <tr>\n      <th>7</th>\n      <td>Caf\u00e8 Dauphine</td>\n      <td>Cajun / Creole Restaurant</td>\n      <td>NaN</td>\n      <td>US</td>\n      <td>New Orleans</td>\n      <td>United States</td>\n      <td>NaN</td>\n      <td>222</td>\n      <td>[New Orleans, LA 70116, United States]</td>\n      <td>[{'label': 'display', 'lat': 29.960599, 'lng':...</td>\n      <td>29.960599</td>\n      <td>-90.065683</td>\n      <td>70116</td>\n      <td>LA</td>\n      <td>50bb94b9e4b0802eba1b140d</td>\n    </tr>\n    <tr>\n      <th>8</th>\n      <td>Cafe A'du Ma</td>\n      <td>Caf\u00e9</td>\n      <td>NaN</td>\n      <td>US</td>\n      <td>New Orleans</td>\n      <td>United States</td>\n      <td>NaN</td>\n      <td>228</td>\n      <td>[New Orleans, LA, United States]</td>\n      <td>[{'label': 'display', 'lat': 29.95826530456543...</td>\n      <td>29.958265</td>\n      <td>-90.063118</td>\n      <td>NaN</td>\n      <td>LA</td>\n      <td>565a245c498e2fa77238b797</td>\n    </tr>\n    <tr>\n      <th>9</th>\n      <td>Internet Caf\u00e9</td>\n      <td>Internet Cafe</td>\n      <td>717 Toulouse St</td>\n      <td>US</td>\n      <td>New Orleans</td>\n      <td>United States</td>\n      <td>NaN</td>\n      <td>150</td>\n      <td>[717 Toulouse St, New Orleans, LA 70130, Unite...</td>\n      <td>[{'label': 'display', 'lat': 29.95727071585543...</td>\n      <td>29.957271</td>\n      <td>-90.065710</td>\n      <td>70130</td>\n      <td>LA</td>\n      <td>4ccf428f3bd6236aef748421</td>\n    </tr>\n    <tr>\n      <th>10</th>\n      <td>Fiorella's Cafe</td>\n      <td>Caf\u00e9</td>\n      <td>NaN</td>\n      <td>US</td>\n      <td>New Orleans</td>\n      <td>United States</td>\n      <td>NaN</td>\n      <td>173</td>\n      <td>[New Orleans, LA 70116, United States]</td>\n      <td>[{'label': 'display', 'lat': 29.95962515192343...</td>\n      <td>29.959625</td>\n      <td>-90.064096</td>\n      <td>70116</td>\n      <td>LA</td>\n      <td>4efa375d9911b01dddf33d5a</td>\n    </tr>\n    <tr>\n      <th>11</th>\n      <td>La Cafe</td>\n      <td>Bar</td>\n      <td>bourbon St</td>\n      <td>US</td>\n      <td>New Orleans</td>\n      <td>United States</td>\n      <td>dumaign</td>\n      <td>215</td>\n      <td>[bourbon St (dumaign), New Orleans, LA 70116, ...</td>\n      <td>[{'label': 'display', 'lat': 29.960173, 'lng':...</td>\n      <td>29.960173</td>\n      <td>-90.064150</td>\n      <td>70116</td>\n      <td>LA</td>\n      <td>5c68693fb25fee002cd3b846</td>\n    </tr>\n    <tr>\n      <th>12</th>\n      <td>cafedumonde</td>\n      <td>Caf\u00e9</td>\n      <td>NaN</td>\n      <td>US</td>\n      <td>NaN</td>\n      <td>United States</td>\n      <td>NaN</td>\n      <td>152</td>\n      <td>[Louisiana, United States]</td>\n      <td>[{'label': 'display', 'lat': 29.95799853035030...</td>\n      <td>29.957999</td>\n      <td>-90.066869</td>\n      <td>NaN</td>\n      <td>Louisiana</td>\n      <td>4f639794e4b0777dfb9086d9</td>\n    </tr>\n    <tr>\n      <th>13</th>\n      <td>Jazz \"N\" Jazz</td>\n      <td>Miscellaneous Shop</td>\n      <td>532 Bourbon St</td>\n      <td>US</td>\n      <td>New Orleans</td>\n      <td>United States</td>\n      <td>NaN</td>\n      <td>183</td>\n      <td>[532 Bourbon St, New Orleans, LA 70130, United...</td>\n      <td>[{'label': 'display', 'lat': 29.95710900000000...</td>\n      <td>29.957109</td>\n      <td>-90.066258</td>\n      <td>70130</td>\n      <td>LA</td>\n      <td>4e6ceee3483b1f5ebe4a2595</td>\n    </tr>\n  </tbody>\n</table>\n</div>",
                        "text/plain": "                                                 name  \\\n0   Tony Seville's Pirates Alley Cafe & Old Absint...   \n1                       Cafe Soule and The Paris Room   \n2                  Cafe Beignet at the Old Coffee Pot   \n3                                       Vacherie Cafe   \n4                           Internet Cafe On Toulouse   \n5                                          Cafe Opera   \n6                                           Cane Cafe   \n7                                       Caf\u00e8 Dauphine   \n8                                        Cafe A'du Ma   \n9                                       Internet Caf\u00e9   \n10                                    Fiorella's Cafe   \n11                                            La Cafe   \n12                                        cafedumonde   \n13                                      Jazz \"N\" Jazz   \n\n                   categories             address  cc         city  \\\n0                         Bar     622 Pirates Aly  US  New Orleans   \n1   Cajun / Creole Restaurant  720 Saint Louis St  US  New Orleans   \n2                        Caf\u00e9  714 Saint Peter St  US  New Orleans   \n3                        Caf\u00e9     827 Toulouse St  US  New Orleans   \n4                        Food     717 Toulouse St  US  New Orleans   \n5                  Restaurant      541 Bourbon St  US  New Orleans   \n6                Cocktail Bar                 NaN  US  New Orleans   \n7   Cajun / Creole Restaurant                 NaN  US  New Orleans   \n8                        Caf\u00e9                 NaN  US  New Orleans   \n9               Internet Cafe     717 Toulouse St  US  New Orleans   \n10                       Caf\u00e9                 NaN  US  New Orleans   \n11                        Bar          bourbon St  US  New Orleans   \n12                       Caf\u00e9                 NaN  US          NaN   \n13         Miscellaneous Shop      532 Bourbon St  US  New Orleans   \n\n          country      crossStreet  distance  \\\n0   United States    Cabildo Alley       143   \n1   United States  Bourbon & Royal       236   \n2   United States              NaN        70   \n3   United States  at Dauphine St.       156   \n4   United States              NaN        78   \n5   United States              NaN       165   \n6   United States              NaN       134   \n7   United States              NaN       222   \n8   United States              NaN       228   \n9   United States              NaN       150   \n10  United States              NaN       173   \n11  United States          dumaign       215   \n12  United States              NaN       152   \n13  United States              NaN       183   \n\n                                     formattedAddress  \\\n0   [622 Pirates Aly (Cabildo Alley), New Orleans,...   \n1   [720 Saint Louis St (Bourbon & Royal), New Orl...   \n2   [714 Saint Peter St, New Orleans, LA 70116, Un...   \n3   [827 Toulouse St (at Dauphine St.), New Orlean...   \n4   [717 Toulouse St, New Orleans, LA 70130, Unite...   \n5   [541 Bourbon St, New Orleans, LA 70130, United...   \n6              [New Orleans, LA 70130, United States]   \n7              [New Orleans, LA 70116, United States]   \n8                    [New Orleans, LA, United States]   \n9   [717 Toulouse St, New Orleans, LA 70130, Unite...   \n10             [New Orleans, LA 70116, United States]   \n11  [bourbon St (dumaign), New Orleans, LA 70116, ...   \n12                         [Louisiana, United States]   \n13  [532 Bourbon St, New Orleans, LA 70130, United...   \n\n                                       labeledLatLngs        lat        lng  \\\n0   [{'label': 'display', 'lat': 29.95802788039143...  29.958028 -90.064133   \n1   [{'label': 'display', 'lat': 29.95673605598335...  29.956736 -90.066626   \n2   [{'label': 'display', 'lat': 29.958095, 'lng':...  29.958095 -90.065028   \n3   [{'label': 'display', 'lat': 29.95841466673428...  29.958415 -90.067066   \n4   [{'label': 'display', 'lat': 29.95791, 'lng': ...  29.957910 -90.065562   \n5   [{'label': 'display', 'lat': 29.95780181884765...  29.957802 -90.066895   \n6   [{'label': 'display', 'lat': 29.957485, 'lng':...  29.957485 -90.065975   \n7   [{'label': 'display', 'lat': 29.960599, 'lng':...  29.960599 -90.065683   \n8   [{'label': 'display', 'lat': 29.95826530456543...  29.958265 -90.063118   \n9   [{'label': 'display', 'lat': 29.95727071585543...  29.957271 -90.065710   \n10  [{'label': 'display', 'lat': 29.95962515192343...  29.959625 -90.064096   \n11  [{'label': 'display', 'lat': 29.960173, 'lng':...  29.960173 -90.064150   \n12  [{'label': 'display', 'lat': 29.95799853035030...  29.957999 -90.066869   \n13  [{'label': 'display', 'lat': 29.95710900000000...  29.957109 -90.066258   \n\n   postalCode      state                        id  \n0       70116         LA  4aeb317af964a5207abf21e3  \n1       70130         LA  4ef3f22b754a89ace0027eb6  \n2       70116         LA  5e50195087d44900083aa068  \n3       70112         LA  4e7601a4d22d80eb33729adf  \n4       70130         LA  4f32433619836c91c7c643c6  \n5       70130         LA  5506c5a6498e18fb132e132f  \n6       70130         LA  5b5274aacabcff002cd0ad56  \n7       70116         LA  50bb94b9e4b0802eba1b140d  \n8         NaN         LA  565a245c498e2fa77238b797  \n9       70130         LA  4ccf428f3bd6236aef748421  \n10      70116         LA  4efa375d9911b01dddf33d5a  \n11      70116         LA  5c68693fb25fee002cd3b846  \n12        NaN  Louisiana  4f639794e4b0777dfb9086d9  \n13      70130         LA  4e6ceee3483b1f5ebe4a2595  "
                    },
                    "execution_count": 21,
                    "metadata": {},
                    "output_type": "execute_result"
                }
            ],
            "source": "# keep only columns that include venue name, and anything that is associated with location\nfiltered_columns = ['name', 'categories'] + [col for col in dataframe.columns if col.startswith('location.')] + ['id']\ndataframe_filtered = dataframe.loc[:, filtered_columns]\n\n# function that extracts the category of the venue\ndef get_category_type(row):\n    try:\n        categories_list = row['categories']\n    except:\n        categories_list = row['venue.categories']\n        \n    if len(categories_list) == 0:\n        return None\n    else:\n        return categories_list[0]['name']\n\n# filter the category for each row\ndataframe_filtered['categories'] = dataframe_filtered.apply(get_category_type, axis=1)\n\n# clean column names by keeping only last term\ndataframe_filtered.columns = [column.split('.')[-1] for column in dataframe_filtered.columns]\ndataframe_filtered"
        },
        {
            "cell_type": "code",
            "execution_count": 22,
            "metadata": {},
            "outputs": [],
            "source": "# Just gonna save these results to a csv file for backup\ndataframe_filtered.to_csv('cafe_200_near_BourbonStreet_data')"
        },
        {
            "cell_type": "code",
            "execution_count": 23,
            "metadata": {},
            "outputs": [
                {
                    "data": {
                        "text/plain": "0     Tony Seville's Pirates Alley Cafe & Old Absint...\n1                         Cafe Soule and The Paris Room\n2                    Cafe Beignet at the Old Coffee Pot\n3                                         Vacherie Cafe\n4                             Internet Cafe On Toulouse\n5                                            Cafe Opera\n6                                             Cane Cafe\n7                                         Caf\u00e8 Dauphine\n8                                          Cafe A'du Ma\n9                                         Internet Caf\u00e9\n10                                      Fiorella's Cafe\n11                                              La Cafe\n12                                          cafedumonde\n13                                        Jazz \"N\" Jazz\nName: name, dtype: object"
                    },
                    "execution_count": 23,
                    "metadata": {},
                    "output_type": "execute_result"
                }
            ],
            "source": "# Output just the names of these cafe\ndataframe_filtered.name"
        },
        {
            "cell_type": "markdown",
            "metadata": {},
            "source": "### Visualize these cafes that are nearby"
        },
        {
            "cell_type": "code",
            "execution_count": 25,
            "metadata": {},
            "outputs": [
                {
                    "data": {
                        "text/html": "<div style=\"width:100%;\"><div style=\"position:relative;width:100%;height:0;padding-bottom:60%;\"><span style=\"color:#565656\">Make this Notebook Trusted to load map: File -> Trust Notebook</span><iframe src=\"about:blank\" style=\"position:absolute;width:100%;height:100%;left:0;top:0;border:none !important;\" data-html=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 onload=\"this.contentDocument.open();this.contentDocument.write(atob(this.getAttribute('data-html')));this.contentDocument.close();\" allowfullscreen webkitallowfullscreen mozallowfullscreen></iframe></div></div>",
                        "text/plain": "<folium.folium.Map at 0x7fda69b2a2e8>"
                    },
                    "execution_count": 25,
                    "metadata": {},
                    "output_type": "execute_result"
                }
            ],
            "source": "venues_map = folium.Map(location=[latitude, longitude], zoom_start=17) # generate map centred around Bourbon Street\n\n# add a red circle marker to represent the Bourbon Street\nfolium.features.CircleMarker(\n    [latitude, longitude],\n    radius=10,\n    color='red',\n    popup='Bourbon Street',\n    fill = True,\n    fill_color = 'red',\n    fill_opacity = 0.6\n).add_to(venues_map)\n\n# add the cafes as black circle markers\nfor lat, lng, label in zip(dataframe_filtered.lat, dataframe_filtered.lng, dataframe_filtered.categories):\n    folium.features.CircleMarker(\n        [lat, lng],\n        radius=5,\n        color='black',\n        popup=label,\n        fill = True,\n        fill_color='black',\n        fill_opacity=0.6\n    ).add_to(venues_map)\n\n# display map\nvenues_map"
        },
        {
            "cell_type": "markdown",
            "metadata": {},
            "source": "### Explore a Given Venue"
        },
        {
            "cell_type": "markdown",
            "metadata": {},
            "source": "#### 1. Start with the closest cafe -- Cafe Beignet at the Old Coffee Pot (70 meters) to get the venue's overall rating"
        },
        {
            "cell_type": "code",
            "execution_count": 33,
            "metadata": {},
            "outputs": [
                {
                    "data": {
                        "text/plain": "'https://api.foursquare.com/v2/venues/5e50195087d44900083aa068?client_id=5PM0YDTXEDFRWVXI5HYXDU3HL3HVYTYFXU045ESX51MEJ2N3&client_secret=0E55LKYOM31UJQVZV4VJATAGWTNBOQEAQC4E0NSK5R1NO0JH&v=20180604'"
                    },
                    "execution_count": 33,
                    "metadata": {},
                    "output_type": "execute_result"
                }
            ],
            "source": "venue_id = '5e50195087d44900083aa068'\nurl = 'https://api.foursquare.com/v2/venues/{}?client_id={}&client_secret={}&v={}'.format(venue_id, CLIENT_ID, CLIENT_SECRET, VERSION)\nurl"
        },
        {
            "cell_type": "code",
            "execution_count": 34,
            "metadata": {},
            "outputs": [
                {
                    "name": "stdout",
                    "output_type": "stream",
                    "text": "dict_keys(['id', 'name', 'contact', 'location', 'canonicalUrl', 'categories', 'verified', 'stats', 'likes', 'dislike', 'ok', 'delivery', 'allowMenuUrlEdit', 'beenHere', 'specials', 'photos', 'reasons', 'hereNow', 'createdAt', 'tips', 'shortUrl', 'timeZone', 'listed', 'hours', 'seasonalHours', 'defaultHours', 'pageUpdates', 'inbox', 'attributes', 'bestPhoto'])\n"
                },
                {
                    "data": {
                        "text/plain": "{'id': '5e50195087d44900083aa068',\n 'name': 'Cafe Beignet at the Old Coffee Pot',\n 'contact': {'phone': '5045004370', 'formattedPhone': '(504) 500-4370'},\n 'location': {'address': '714 Saint Peter St',\n  'lat': 29.958095,\n  'lng': -90.065028,\n  'labeledLatLngs': [{'label': 'display', 'lat': 29.958095, 'lng': -90.065028},\n   {'label': 'entrance', 'lat': 29.958195, 'lng': -90.065133}],\n  'postalCode': '70116',\n  'cc': 'US',\n  'city': 'New Orleans',\n  'state': 'LA',\n  'country': 'United States',\n  'formattedAddress': ['714 Saint Peter St',\n   'New Orleans, LA 70116',\n   'United States']},\n 'canonicalUrl': 'https://foursquare.com/v/cafe-beignet-at-the-old-coffee-pot/5e50195087d44900083aa068',\n 'categories': [{'id': '4bf58dd8d48988d16d941735',\n   'name': 'Caf\u00e9',\n   'pluralName': 'Caf\u00e9s',\n   'shortName': 'Caf\u00e9',\n   'icon': {'prefix': 'https://ss3.4sqi.net/img/categories_v2/food/cafe_',\n    'suffix': '.png'},\n   'primary': True}],\n 'verified': False,\n 'stats': {'tipCount': 0},\n 'likes': {'count': 0, 'groups': []},\n 'dislike': False,\n 'ok': False,\n 'delivery': {'id': '1776785',\n  'url': 'https://www.grubhub.com/restaurant/cafe-beignet-714-saint-peter-new-orleans/1776785?affiliate=1131&utm_source=foursquare-affiliate-network&utm_medium=affiliate&utm_campaign=1131&utm_content=1776785',\n  'provider': {'name': 'grubhub',\n   'icon': {'prefix': 'https://fastly.4sqi.net/img/general/cap/',\n    'sizes': [40, 50],\n    'name': '/delivery_provider_grubhub_20180129.png'}}},\n 'allowMenuUrlEdit': True,\n 'beenHere': {'count': 0,\n  'unconfirmedCount': 0,\n  'marked': False,\n  'lastCheckinExpiredAt': 0},\n 'specials': {'count': 0, 'items': []},\n 'photos': {'count': 1,\n  'groups': [{'type': 'venue',\n    'name': 'Venue photos',\n    'count': 1,\n    'items': [{'id': '5e6fd42412e6b900087713bf',\n      'createdAt': 1584387108,\n      'source': {'name': 'Swarm for iOS', 'url': 'https://www.swarmapp.com'},\n      'prefix': 'https://fastly.4sqi.net/img/general/',\n      'suffix': '/4090645_dECXEUO1yWMsSdx5a68hQAAUBChMN8pBADt3TgXaHDU.jpg',\n      'width': 1440,\n      'height': 1920,\n      'user': {'id': '4090645',\n       'firstName': 'Cynthia',\n       'lastName': 'H',\n       'photo': {'prefix': 'https://fastly.4sqi.net/img/user/',\n        'suffix': '/ZOW23LLVS5BWLYOZ.jpg'}},\n      'visibility': 'public'}]}]},\n 'reasons': {'count': 0, 'items': []},\n 'hereNow': {'count': 0, 'summary': 'Nobody here', 'groups': []},\n 'createdAt': 1582307664,\n 'tips': {'count': 0,\n  'groups': [{'type': 'others', 'name': 'All tips', 'count': 0, 'items': []}]},\n 'shortUrl': 'https://4sq.com/37NtNTF',\n 'timeZone': 'America/Chicago',\n 'listed': {'count': 1,\n  'groups': [{'type': 'others',\n    'name': 'Lists from other people',\n    'count': 1,\n    'items': [{'id': '5ea8663b0b782c0006b9ca0a',\n      'name': 'Go back to explore: New Orleans',\n      'description': '',\n      'type': 'others',\n      'user': {'id': '4221931',\n       'firstName': 'JH',\n       'lastName': 'H',\n       'photo': {'prefix': 'https://fastly.4sqi.net/img/user/',\n        'suffix': '/4221931_pWG4uJWg_XkoEZONUkDZq3MXcPWAbjsuprqZVSQ23sqaIilPFv5pG8FDlzvwdRYiKsalXffFJ.jpg'}},\n      'editable': False,\n      'public': True,\n      'collaborative': False,\n      'url': '/jhwaholmquist/list/go-back-to-explore-new-orleans',\n      'canonicalUrl': 'https://foursquare.com/jhwaholmquist/list/go-back-to-explore-new-orleans',\n      'createdAt': 1588094523,\n      'updatedAt': 1592104767,\n      'followers': {'count': 0},\n      'listItems': {'count': 38,\n       'items': [{'id': 'v5e50195087d44900083aa068',\n         'createdAt': 1592104767}]}}]}]},\n 'hours': {'status': 'Open until 10:00 PM',\n  'richStatus': {'entities': [], 'text': 'Open until 10:00 PM'},\n  'isOpen': True,\n  'isLocalHoliday': False,\n  'dayData': [],\n  'timeframes': [{'days': 'Mon\u2013Sun',\n    'includesToday': True,\n    'open': [{'renderedTime': '8:00 AM\u201310:00 PM'}],\n    'segments': []}]},\n 'seasonalHours': [],\n 'defaultHours': {'status': 'Open until 10:00 PM',\n  'richStatus': {'entities': [], 'text': 'Open until 10:00 PM'},\n  'isOpen': True,\n  'isLocalHoliday': False,\n  'dayData': [],\n  'timeframes': [{'days': 'Mon\u2013Sun',\n    'includesToday': True,\n    'open': [{'renderedTime': '8:00 AM\u201310:00 PM'}],\n    'segments': []}]},\n 'pageUpdates': {'count': 0, 'items': []},\n 'inbox': {'count': 0, 'items': []},\n 'attributes': {'groups': []},\n 'bestPhoto': {'id': '5e6fd42412e6b900087713bf',\n  'createdAt': 1584387108,\n  'source': {'name': 'Swarm for iOS', 'url': 'https://www.swarmapp.com'},\n  'prefix': 'https://fastly.4sqi.net/img/general/',\n  'suffix': '/4090645_dECXEUO1yWMsSdx5a68hQAAUBChMN8pBADt3TgXaHDU.jpg',\n  'width': 1440,\n  'height': 1920,\n  'visibility': 'public'}}"
                    },
                    "execution_count": 34,
                    "metadata": {},
                    "output_type": "execute_result"
                }
            ],
            "source": "# Send GET request for result\nresult = requests.get(url).json()\nprint(result['response']['venue'].keys())\nresult['response']['venue']"
        },
        {
            "cell_type": "code",
            "execution_count": 35,
            "metadata": {},
            "outputs": [
                {
                    "name": "stdout",
                    "output_type": "stream",
                    "text": "This venue has not been rated yet.\n"
                }
            ],
            "source": "try:\n    print(result['response']['venue']['rating'])\nexcept:\n    print('This venue has not been rated yet.')"
        },
        {
            "cell_type": "markdown",
            "metadata": {},
            "source": "Arlight, since this restaurant has no ratings, we will look at the second one"
        },
        {
            "cell_type": "markdown",
            "metadata": {},
            "source": "#### 2. The second closest cafe -- Internet Cafe On Toulouse (78 meters)"
        },
        {
            "cell_type": "code",
            "execution_count": 36,
            "metadata": {},
            "outputs": [
                {
                    "name": "stdout",
                    "output_type": "stream",
                    "text": "This venue has not been rated yet.\n"
                }
            ],
            "source": "venue_id = '4f32433619836c91c7c643c6'\nurl = 'https://api.foursquare.com/v2/venues/{}?client_id={}&client_secret={}&v={}'.format(venue_id, CLIENT_ID, CLIENT_SECRET, VERSION)\n\nresult = requests.get(url).json()\ntry:\n    print(result['response']['venue']['rating'])\nexcept:\n    print('This venue has not been rated yet.')"
        },
        {
            "cell_type": "markdown",
            "metadata": {},
            "source": "Well...no ratings, let's move on"
        },
        {
            "cell_type": "markdown",
            "metadata": {},
            "source": "#### 3. The third closest cafe -- Cane Cafe (134 meters)"
        },
        {
            "cell_type": "code",
            "execution_count": 37,
            "metadata": {},
            "outputs": [
                {
                    "name": "stdout",
                    "output_type": "stream",
                    "text": "This venue has not been rated yet.\n"
                }
            ],
            "source": "venue_id = '5b5274aacabcff002cd0ad56'\nurl = 'https://api.foursquare.com/v2/venues/{}?client_id={}&client_secret={}&v={}'.format(venue_id, CLIENT_ID, CLIENT_SECRET, VERSION)\n\nresult = requests.get(url).json()\ntry:\n    print(result['response']['venue']['rating'])\nexcept:\n    print('This venue has not been rated yet.')"
        },
        {
            "cell_type": "markdown",
            "metadata": {},
            "source": "Nope, let's move on"
        },
        {
            "cell_type": "markdown",
            "metadata": {},
            "source": "#### 4. The fourth closest cafe -- Tony Seville's Pirates Alley Cafe & Old Absinthe House (143 meters)"
        },
        {
            "cell_type": "code",
            "execution_count": 39,
            "metadata": {},
            "outputs": [
                {
                    "name": "stdout",
                    "output_type": "stream",
                    "text": "7.7\n"
                }
            ],
            "source": "venue_id = '4aeb317af964a5207abf21e3'\nurl = 'https://api.foursquare.com/v2/venues/{}?client_id={}&client_secret={}&v={}'.format(venue_id, CLIENT_ID, CLIENT_SECRET, VERSION)\n\nresult = requests.get(url).json()\ntry:\n    print(result['response']['venue']['rating'])\nexcept:\n    print('This venue has not been rated yet.')"
        },
        {
            "cell_type": "markdown",
            "metadata": {},
            "source": "Yay! Finally we got a ranking! Thank God...Since we only have one ranking so far, it is no comparison that tells how good/bad the score 7.7 stands for. So let's move on."
        },
        {
            "cell_type": "markdown",
            "metadata": {},
            "source": "#### 5. The fifth closest cafe -- Internet Caf\u00e9 (150 meters)"
        },
        {
            "cell_type": "code",
            "execution_count": 40,
            "metadata": {},
            "outputs": [
                {
                    "name": "stdout",
                    "output_type": "stream",
                    "text": "This venue has not been rated yet.\n"
                }
            ],
            "source": "venue_id = '4ccf428f3bd6236aef748421'\nurl = 'https://api.foursquare.com/v2/venues/{}?client_id={}&client_secret={}&v={}'.format(venue_id, CLIENT_ID, CLIENT_SECRET, VERSION)\n\nresult = requests.get(url).json()\ntry:\n    print(result['response']['venue']['rating'])\nexcept:\n    print('This venue has not been rated yet.')"
        },
        {
            "cell_type": "markdown",
            "metadata": {},
            "source": "Too bad...Let's move on"
        },
        {
            "cell_type": "markdown",
            "metadata": {},
            "source": "#### 6. The sixth closest cafe -- cafedumonde (152 meters)"
        },
        {
            "cell_type": "code",
            "execution_count": 41,
            "metadata": {},
            "outputs": [
                {
                    "name": "stdout",
                    "output_type": "stream",
                    "text": "This venue has not been rated yet.\n"
                }
            ],
            "source": "venue_id = '4f639794e4b0777dfb9086d9'\nurl = 'https://api.foursquare.com/v2/venues/{}?client_id={}&client_secret={}&v={}'.format(venue_id, CLIENT_ID, CLIENT_SECRET, VERSION)\n\nresult = requests.get(url).json()\ntry:\n    print(result['response']['venue']['rating'])\nexcept:\n    print('This venue has not been rated yet.')"
        },
        {
            "cell_type": "markdown",
            "metadata": {},
            "source": "Nope...moving on..."
        },
        {
            "cell_type": "markdown",
            "metadata": {},
            "source": "#### 7. The seventh closest cafe -- Vacherie Cafe (156 meters)"
        },
        {
            "cell_type": "code",
            "execution_count": 42,
            "metadata": {},
            "outputs": [
                {
                    "name": "stdout",
                    "output_type": "stream",
                    "text": "7.8\n"
                }
            ],
            "source": "venue_id = '4e7601a4d22d80eb33729adf'\nurl = 'https://api.foursquare.com/v2/venues/{}?client_id={}&client_secret={}&v={}'.format(venue_id, CLIENT_ID, CLIENT_SECRET, VERSION)\n\nresult = requests.get(url).json()\ntry:\n    print(result['response']['venue']['rating'])\nexcept:\n    print('This venue has not been rated yet.')"
        },
        {
            "cell_type": "markdown",
            "metadata": {},
            "source": "Yay! Very excited to see another ranking score. So the ranking of this one #7-7.8 is a little bit higher than #4-7.7. Let's check more cafes."
        },
        {
            "cell_type": "markdown",
            "metadata": {},
            "source": "#### 8. The eighth closest cafe -- Cafe Opera (165 meters)"
        },
        {
            "cell_type": "code",
            "execution_count": 43,
            "metadata": {},
            "outputs": [
                {
                    "name": "stdout",
                    "output_type": "stream",
                    "text": "This venue has not been rated yet.\n"
                }
            ],
            "source": "venue_id = '5506c5a6498e18fb132e132f'\nurl = 'https://api.foursquare.com/v2/venues/{}?client_id={}&client_secret={}&v={}'.format(venue_id, CLIENT_ID, CLIENT_SECRET, VERSION)\n\nresult = requests.get(url).json()\ntry:\n    print(result['response']['venue']['rating'])\nexcept:\n    print('This venue has not been rated yet.')"
        },
        {
            "cell_type": "markdown",
            "metadata": {},
            "source": "Fine. Next one!"
        },
        {
            "cell_type": "markdown",
            "metadata": {},
            "source": "#### 9. The ninth closest cafe -- Fiorella's Cafe (173 meters)"
        },
        {
            "cell_type": "code",
            "execution_count": 44,
            "metadata": {},
            "outputs": [
                {
                    "name": "stdout",
                    "output_type": "stream",
                    "text": "This venue has not been rated yet.\n"
                }
            ],
            "source": "venue_id = '4efa375d9911b01dddf33d5a'\nurl = 'https://api.foursquare.com/v2/venues/{}?client_id={}&client_secret={}&v={}'.format(venue_id, CLIENT_ID, CLIENT_SECRET, VERSION)\n\nresult = requests.get(url).json()\ntry:\n    print(result['response']['venue']['rating'])\nexcept:\n    print('This venue has not been rated yet.')"
        },
        {
            "cell_type": "markdown",
            "metadata": {},
            "source": "Nope. Next."
        },
        {
            "cell_type": "markdown",
            "metadata": {},
            "source": "#### 10. The tenth closest cafe -- Jazz \"N\" Jazz (183 meters)"
        },
        {
            "cell_type": "markdown",
            "metadata": {},
            "source": "Okay...I am not sure why this one is counted as a cafe. It belongs to Miscellaneous Shop category. When I google it, it looks like a music store. I believe it's an error somewhere. I went back and checked the searching query and that seems correct. Maybe they provide food during small concerts? Not sure. However, consider about the main purpose of this store, it will not be recommended as a main cafe for users. So let's move on..."
        },
        {
            "cell_type": "markdown",
            "metadata": {},
            "source": "#### 11 & 12 & 13 & 14 cafe"
        },
        {
            "cell_type": "markdown",
            "metadata": {},
            "source": "11. La Cafe (215 meters) \n12. Caf\u00e8 Dauphine (222 meters)\n13. Cafe A'du Ma (228 meters)\n14. Cafe Soule and The Paris Room (236 meters)\n\nAs you can tell, these four cafes seem not within 200 meters, which made me run into big confusion.\n\nIf they are out of searching raduis, how can they still be listed as results?\n\nIf they are not, why they are further?\n\nIs there something wrong with the searching query?"
        },
        {
            "cell_type": "markdown",
            "metadata": {},
            "source": "In order to see why this happens, I went back to my reference: Learning FourSquare API with Python and re-run through the notebook. Still cannot answer these questions. But as for the project that is aiming for cafes within 200 meters. These cafes will not be considered."
        },
        {
            "cell_type": "markdown",
            "metadata": {},
            "source": "### Results & Discussions"
        },
        {
            "cell_type": "markdown",
            "metadata": {},
            "source": "1. There are totally nine cafes within 200 meters of Bourbon street.\n\n2. Among these nine cafes, seven of them have not been rated on Foursquare and two have been rated.\n\n3. Between these two rated cafes:\n        -Tony Seville's Pirates Alley Cafe & Old Absinthe House, which is 143 meters away from Bourbon street, has a rating score of 7.7\n        -Vacherie Cafe, which is 156 meters away from Bourbon street, has a rating score of 7.8\n\nBecause the rated two cafes do not have distinct differences on either distances or scores, there is not an absolute better one in these two. \n\nThey both worth being recommended for visitors."
        },
        {
            "cell_type": "markdown",
            "metadata": {},
            "source": "### Conclusion"
        },
        {
            "cell_type": "markdown",
            "metadata": {},
            "source": "1. If you prefer a rated cafe that is closer to Bourbon street, please visit Tony Seville's Pirates Alley Cafe & Old Absinthe House.\n        Address: 622 Pirates Aly (Cabildo Alley), New Orleans, LA 70116\n2. If you prefer a rated cafe that has a higher ranking score on Foursquare, please visit Vacherie Cafe.\n        Address: 827 Toulouse St (at Dauphine St.), New Orleans, LA 70112"
        }
    ],
    "metadata": {
        "kernelspec": {
            "display_name": "Python 3.6",
            "language": "python",
            "name": "python3"
        },
        "language_info": {
            "codemirror_mode": {
                "name": "ipython",
                "version": 3
            },
            "file_extension": ".py",
            "mimetype": "text/x-python",
            "name": "python",
            "nbconvert_exporter": "python",
            "pygments_lexer": "ipython3",
            "version": "3.6.9"
        }
    },
    "nbformat": 4,
    "nbformat_minor": 1
}